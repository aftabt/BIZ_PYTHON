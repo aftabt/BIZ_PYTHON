{
 "cells": [
  {
   "cell_type": "markdown",
   "id": "93fb8159-ee92-4a89-93f8-c57655c67faa",
   "metadata": {},
   "source": [
    "### 1.\tCreate the empty list and ask user to enters only int, float elements in the list."
   ]
  },
  {
   "cell_type": "code",
   "execution_count": 105,
   "id": "09153e2d-9e11-40c2-b694-ff3c8df6a599",
   "metadata": {},
   "outputs": [
    {
     "name": "stdin",
     "output_type": "stream",
     "text": [
      "enter only int, float elements(type ESC to exit):  667878\n",
      "enter only int, float elements(type ESC to exit):  jpop\n"
     ]
    },
    {
     "name": "stdout",
     "output_type": "stream",
     "text": [
      "please enter int or float only\n"
     ]
    },
    {
     "name": "stdin",
     "output_type": "stream",
     "text": [
      "enter only int, float elements(type ESC to exit):  85184\n",
      "enter only int, float elements(type ESC to exit):  555\n",
      "enter only int, float elements(type ESC to exit):  12.025\n",
      "enter only int, float elements(type ESC to exit):  esc\n"
     ]
    },
    {
     "name": "stdout",
     "output_type": "stream",
     "text": [
      "List completed\n",
      "['667878', '85184', '555', '12.025']\n"
     ]
    }
   ],
   "source": [
    "l1 = []\n",
    "\n",
    "while True:\n",
    "    a = input('enter only int, float elements(type ESC to exit): ').lower()\n",
    "\n",
    "    if a == \"esc\" :\n",
    "        print(\"List completed\")\n",
    "        break\n",
    "    else:\n",
    "        try:\n",
    "            if int(a):\n",
    "                l1.append(a)\n",
    "\n",
    "        except ValueError:\n",
    "            try: \n",
    "                if float(a):\n",
    "                    l1.append(a)\n",
    "            except ValueError:\n",
    "                    if str(a):\n",
    "                        print(\"please enter int or float only\")\n",
    "                    else:\n",
    "                        continue\n",
    "print(l1)        "
   ]
  },
  {
   "cell_type": "markdown",
   "id": "8de2fc0a-721d-482a-af48-ed6698ec7ca5",
   "metadata": {},
   "source": [
    "### 2.\tCreate a empty dictionary d1 ask user to enter the values using loop"
   ]
  },
  {
   "cell_type": "code",
   "execution_count": 130,
   "id": "ed8420bb-9f3d-4945-b9ca-4a270e14ea68",
   "metadata": {},
   "outputs": [
    {
     "name": "stdin",
     "output_type": "stream",
     "text": [
      "Enter the key (type ESC to exit):  sd\n",
      "Enter the value (type ESC to exit):  asd\n",
      "Enter the key (type ESC to exit):  de\n",
      "Enter the value (type ESC to exit):  wef\n",
      "Enter the key (type ESC to exit):  cd\n",
      "Enter the value (type ESC to exit):  esc\n"
     ]
    },
    {
     "name": "stdout",
     "output_type": "stream",
     "text": [
      "Dictionary Completed\n",
      "{'sd': 'asd', 'de': 'wef'}\n"
     ]
    }
   ],
   "source": [
    "d1 = {}\n",
    "\n",
    "while True:\n",
    "    a = input(\"Enter the key (type ESC to exit): \").lower()\n",
    "    if a == \"esc\":\n",
    "        print(\"Dictionary Completed\")\n",
    "        break\n",
    "    b = input(\"Enter the value (type ESC to exit): \").lower()\n",
    "    if b == \"esc\":\n",
    "        print(\"Dictionary Completed\")\n",
    "        break\n",
    "        \n",
    "    d1[a] = b\n",
    "\n",
    "print(d1)"
   ]
  },
  {
   "cell_type": "markdown",
   "id": "857fc731-1b96-4324-af00-8e548bc2aca9",
   "metadata": {},
   "source": [
    "### 3.\tCreate a empty dictionary d1 ask user to enter the values using comprehensive list"
   ]
  },
  {
   "cell_type": "code",
   "execution_count": null,
   "id": "53c0d39d-9bba-4aca-bd46-13992b9fcbe2",
   "metadata": {},
   "outputs": [],
   "source": [
    "d1 = {}\n",
    "\n",
    "get_input = lambda: input().lower()\n",
    "\n",
    "while True:\n",
    "    print(\"Enter the key (type ESC to exit): \", end=\"\")\n",
    "    a = get_input()\n",
    "    if a == \"esc\":\n",
    "        print(\"Dictionary Completed\")\n",
    "        break\n",
    "    print(\"Enter the value (type ESC to exit): \", end=\"\")\n",
    "    b = get_input()\n",
    "    if b == \"esc\":\n",
    "        print(\"Dictionary Completed\")\n",
    "        break\n",
    "        \n",
    "    d1[a] = b\n",
    "\n",
    "print(d1)\n"
   ]
  },
  {
   "cell_type": "markdown",
   "id": "d47b7a8d-7176-43db-9e28-ea93c8d64bae",
   "metadata": {},
   "source": [
    "### 4.\tCreate a function which will accept two integer or float parameter from user and return 4 arithmetic operations in the form of tuple. If user pass argument other than integer and float then error should be created."
   ]
  },
  {
   "cell_type": "code",
   "execution_count": 177,
   "id": "50f617f4-d130-4e85-8e3b-f59a9df8146f",
   "metadata": {},
   "outputs": [
    {
     "name": "stdin",
     "output_type": "stream",
     "text": [
      "enter value 1 (integer/float):  1\n",
      "enter value 2 (integer/float):  2\n"
     ]
    },
    {
     "name": "stdout",
     "output_type": "stream",
     "text": [
      "\n",
      "Arithmetic Operations:\n",
      "(Addition, Subtraction, Multiplication, Division): (3, -1, 2, 0.5)\n"
     ]
    }
   ],
   "source": [
    "def arith():\n",
    "    l2 = []\n",
    "    try:\n",
    "        a = eval(input(\"enter value 1 (integer/float): \"))\n",
    "        b = eval(input(\"enter value 2 (integer/float): \"))\n",
    "        \n",
    "        print(\"\")\n",
    "        print(\"Arithmetic Operations:\")\n",
    "        add = a + b\n",
    "        l2.append(add)\n",
    "        sub = a - b\n",
    "        l2.append(sub)\n",
    "        mul = a * b\n",
    "        l2.append(mul)\n",
    "        div = a / b\n",
    "        l2.append(div)\n",
    "        \n",
    "        t1 = tuple(l2)\n",
    "        print(\"(Addition, Subtraction, Multiplication, Division):\", t1)\n",
    "\n",
    "    except NameError:\n",
    "        print(\"please enter the float or integer values only\")\n",
    "        \n",
    "            \n",
    "\n",
    "arith()"
   ]
  },
  {
   "cell_type": "markdown",
   "id": "bfb416f4-0655-405d-b206-2d4a93c6c10b",
   "metadata": {},
   "source": [
    "## 5.\t Based on the above function (Question number 4) dived the outcome of multiplication by 2. "
   ]
  },
  {
   "cell_type": "code",
   "execution_count": 179,
   "id": "623fee99-0318-437d-bb35-29af50a99476",
   "metadata": {},
   "outputs": [
    {
     "name": "stdin",
     "output_type": "stream",
     "text": [
      "enter value 1 (integer/float):  1\n",
      "enter value 2 (integer/float):  2\n"
     ]
    },
    {
     "name": "stdout",
     "output_type": "stream",
     "text": [
      "\n",
      "Arithmetic Operations:\n",
      "(Addition, Subtraction, Multiplication, Division): (3, -1, 2, 0.5)\n",
      "\n",
      "Arithmetic Operations after multication by 2: \n",
      "(Addition, Subtraction, Multiplication, Division): (6, -2, 4, 1.0)\n"
     ]
    }
   ],
   "source": [
    "def arith():\n",
    "    l2 = []\n",
    "    l3 = []\n",
    "    try:\n",
    "        a = eval(input(\"enter value 1 (integer/float): \"))\n",
    "        b = eval(input(\"enter value 2 (integer/float): \"))\n",
    "        \n",
    "        print(\"\")\n",
    "        print(\"Arithmetic Operations:\")\n",
    "        add = a + b\n",
    "        l2.append(add)\n",
    "        sub = a - b\n",
    "        l2.append(sub)\n",
    "        mul = a * b\n",
    "        l2.append(mul)\n",
    "        div = a / b\n",
    "        l2.append(div)\n",
    "\n",
    "        for i in l2:\n",
    "            c = i*2\n",
    "            l3.append(c)\n",
    "            \n",
    "        t1 = tuple(l2)\n",
    "        t2 = tuple(l3)\n",
    "        \n",
    "        print(\"(Addition, Subtraction, Multiplication, Division):\", t1)\n",
    "\n",
    "        print(\"\")\n",
    "        print(\"Arithmetic Operations after multication by 2: \")\n",
    "        print(\"(Addition, Subtraction, Multiplication, Division):\", t2)\n",
    "\n",
    "    except NameError:\n",
    "        print(\"please enter the float or integer values only\")\n",
    "        \n",
    "            \n",
    "\n",
    "arith()"
   ]
  },
  {
   "cell_type": "markdown",
   "id": "526e8ab0-e9ea-436e-8cbb-586cc9fa6653",
   "metadata": {},
   "source": [
    "### 6.\tcreate a function to add only string element in a list. if other than string display the appropriate message."
   ]
  },
  {
   "cell_type": "code",
   "execution_count": 200,
   "id": "fe454511-fa7d-4208-8e0c-aef847d1e358",
   "metadata": {},
   "outputs": [
    {
     "name": "stdin",
     "output_type": "stream",
     "text": [
      "enter on string value (type ESC to exit) 1\n"
     ]
    },
    {
     "name": "stdout",
     "output_type": "stream",
     "text": [
      "please enter string(alphabets)\n"
     ]
    },
    {
     "name": "stdin",
     "output_type": "stream",
     "text": [
      "enter on string value (type ESC to exit) 24\n"
     ]
    },
    {
     "name": "stdout",
     "output_type": "stream",
     "text": [
      "please enter string(alphabets)\n"
     ]
    },
    {
     "name": "stdin",
     "output_type": "stream",
     "text": [
      "enter on string value (type ESC to exit) 2.5\n"
     ]
    },
    {
     "name": "stdout",
     "output_type": "stream",
     "text": [
      "please enter string(alphabets)\n"
     ]
    },
    {
     "name": "stdin",
     "output_type": "stream",
     "text": [
      "enter on string value (type ESC to exit) 4.8\n"
     ]
    },
    {
     "name": "stdout",
     "output_type": "stream",
     "text": [
      "please enter string(alphabets)\n"
     ]
    },
    {
     "name": "stdin",
     "output_type": "stream",
     "text": [
      "enter on string value (type ESC to exit) asdfr\n",
      "enter on string value (type ESC to exit) efscd\n",
      "enter on string value (type ESC to exit) qewweqd\n",
      "enter on string value (type ESC to exit) esc\n"
     ]
    },
    {
     "name": "stdout",
     "output_type": "stream",
     "text": [
      "list completed\n",
      "['asdfr', 'efscd', 'qewweqd']\n"
     ]
    }
   ],
   "source": [
    "l4 = []\n",
    "\n",
    "while True:\n",
    "\n",
    "    a1 = input(\"enter on string value (type ESC to exit)\").lower()\n",
    "\n",
    "    if a1 == 'esc':\n",
    "        print(\"list completed\")\n",
    "        break\n",
    "    else:\n",
    "        try:\n",
    "            if int(a1):\n",
    "                print(\"please enter string(alphabets)\")\n",
    "                continue\n",
    "                \n",
    "        except ValueError:\n",
    "            try:\n",
    "                if float(a1):\n",
    "                    print(\"please enter string(alphabets)\")\n",
    "                    continue\n",
    "                \n",
    "            except ValueError:\n",
    "                l4.append(a1)\n",
    "\n",
    "print(l4)"
   ]
  },
  {
   "cell_type": "markdown",
   "id": "363c4682-93a9-4a4d-84bf-b3f5a4830dbb",
   "metadata": {},
   "source": [
    "### 7.\tCreate a function to read the file and return the dictionary of total lines, total words"
   ]
  },
  {
   "cell_type": "code",
   "execution_count": 271,
   "id": "540b84f6-f73f-4fae-a52d-19fbe1b61642",
   "metadata": {},
   "outputs": [
    {
     "name": "stdout",
     "output_type": "stream",
     "text": [
      "18\n"
     ]
    }
   ],
   "source": [
    "def read():\n",
    "    a = open(r\"D:\\Work Related\\VS Code\\Questionaries (1).txt\",'r')\n",
    "    b = a.readlines()\n",
    "    print(len(b))\n",
    "read()"
   ]
  },
  {
   "cell_type": "code",
   "execution_count": 273,
   "id": "2aba2476-1f18-40a9-ab33-530419bd2705",
   "metadata": {},
   "outputs": [
    {
     "name": "stdout",
     "output_type": "stream",
     "text": [
      "18\n",
      "231\n"
     ]
    }
   ],
   "source": [
    "def read():\n",
    "    a=open(r\"D:\\Work Related\\VS Code\\Questionaries (1).txt\",'r')\n",
    "    b = a.readlines()\n",
    "    nlines = len(b)\n",
    "    nwords = sum(len(b.split()) for b in b)\n",
    "    print(nlines)\n",
    "    print(nwords)\n",
    "\n",
    "read()"
   ]
  },
  {
   "cell_type": "markdown",
   "id": "c26b3816-85c2-4429-acb6-c3d6ba5459b8",
   "metadata": {},
   "source": [
    "### 8.\tCreate a function which will accept the dictionary and display key values in separate line."
   ]
  },
  {
   "cell_type": "code",
   "execution_count": 741,
   "id": "16fa6f63-deea-4a35-8c16-1375d4b2a305",
   "metadata": {},
   "outputs": [
    {
     "name": "stdout",
     "output_type": "stream",
     "text": [
      "Key: Name, Value: Alice\n",
      "Key: Age, Value: 25\n",
      "Key: City, Value: New York\n"
     ]
    }
   ],
   "source": [
    "def disp(d):\n",
    "    for k, v in d.items():\n",
    "        print(f\"Key: {k}, Value: {v}\")\n",
    "\n",
    "d1 = {\"Name\": \"Alice\", \"Age\": 25, \"City\": \"New York\"}\n",
    "disp(d1)\n"
   ]
  },
  {
   "cell_type": "markdown",
   "id": "86d74dff-44cc-4a13-a7f9-73c37dbb83b1",
   "metadata": {},
   "source": [
    "### 9.\tCreate a lambda function which will accept the dictionary and display key values in separate line."
   ]
  },
  {
   "cell_type": "code",
   "execution_count": 735,
   "id": "1af05fc9-bc1e-4c4d-8340-dc1911c968c1",
   "metadata": {},
   "outputs": [
    {
     "name": "stdout",
     "output_type": "stream",
     "text": [
      "Key: Name, Value: Alice\n",
      "Key: Age, Value: 25\n",
      "Key: City, Value: New York\n"
     ]
    },
    {
     "data": {
      "text/plain": [
       "[None, None, None]"
      ]
     },
     "execution_count": 735,
     "metadata": {},
     "output_type": "execute_result"
    }
   ],
   "source": [
    "a = lambda d: [print(\"Key: {}, Value: {}\".format(k,v)) for k, v in d.items()]\n",
    "\n",
    "d1 = {\"Name\": \"Alice\", \"Age\": 25, \"City\": \"New York\"}\n",
    "a(d1)\n"
   ]
  },
  {
   "cell_type": "markdown",
   "id": "3b05367d-1f7e-4c6e-9b50-e2973b19ad9a",
   "metadata": {},
   "source": [
    "### 10.\tCreate a function to validate the password: password should contains at least one small letter, one capital letter, one number, and one special character except comma, quotes"
   ]
  },
  {
   "cell_type": "code",
   "execution_count": 313,
   "id": "7f0ce235-3565-4f6e-8803-429e936c6833",
   "metadata": {},
   "outputs": [
    {
     "name": "stdin",
     "output_type": "stream",
     "text": [
      "please enter the password Aftab@123\n"
     ]
    },
    {
     "name": "stdout",
     "output_type": "stream",
     "text": [
      "Password Correct\n"
     ]
    }
   ],
   "source": [
    "import re\n",
    "def validate():\n",
    "    pwd = input(\"please enter the password\")\n",
    "    if re.search(r\"[a-z]\",pwd) and re.search(r\"[A-Z]\", pwd) and re.search(r\"[0-9]\", pwd) and re.search(r\"[!@#$%^&*]\", pwd):\n",
    "        print(\"Password Correct\")\n",
    "    else:\n",
    "        print(\"wrong password\")\n",
    "validate()"
   ]
  },
  {
   "cell_type": "markdown",
   "id": "1b0018e4-14db-48ad-9f64-e944dd2faa2d",
   "metadata": {},
   "source": [
    "### 13.\tCreate lambda function for sorting of the string"
   ]
  },
  {
   "cell_type": "code",
   "execution_count": 346,
   "id": "a9935e7b-dd39-440c-b105-7cfa9e4fad06",
   "metadata": {},
   "outputs": [
    {
     "name": "stdout",
     "output_type": "stream",
     "text": [
      "['A', 'a', 'b', 'f', 't']\n"
     ]
    }
   ],
   "source": [
    "a = lambda b : sorted(b)\n",
    "print(a(\"Aftab\"))"
   ]
  },
  {
   "cell_type": "markdown",
   "id": "2eb26103-2ebd-442c-9dc9-ad9f26faa155",
   "metadata": {},
   "source": [
    "### 14.\tCreate a generator which will generate runtime unique value as  ABC0001, ABC0002, ABC0003… "
   ]
  },
  {
   "cell_type": "code",
   "execution_count": 724,
   "id": "ea3d0d60-22f8-4df6-9a8a-7a84b7746d33",
   "metadata": {},
   "outputs": [
    {
     "name": "stdout",
     "output_type": "stream",
     "text": [
      "ABC0001\n",
      "ABC0002\n",
      "ABC0003\n"
     ]
    }
   ],
   "source": [
    "class unq:\n",
    "    def __init__(self, start=1):\n",
    "        self.counter = start\n",
    "    \n",
    "    def nxt(self):\n",
    "        value = f\"ABC{self.counter:04d}\"\n",
    "        self.counter += 1\n",
    "        return value\n",
    "\n",
    "gen = unq()\n",
    "print(gen.nxt())  \n",
    "print(gen.nxt())  \n",
    "print(gen.nxt())"
   ]
  },
  {
   "cell_type": "markdown",
   "id": "1e56de31-0423-424e-8cfa-e3ce4048c05e",
   "metadata": {},
   "source": [
    "### 15.\tCreate a decorator to check if all input values are alpha numeric and based on it check PAN detail  AAAAA1111X , rec.no   first 3 chr next 5 number "
   ]
  },
  {
   "cell_type": "code",
   "execution_count": 719,
   "id": "91af7966-0df2-4ed9-8f6a-6d1185265b37",
   "metadata": {},
   "outputs": [
    {
     "name": "stdout",
     "output_type": "stream",
     "text": [
      "PAN ABCDE1234F is valid.\n",
      "PAN AB123E456F is invalid.\n",
      "Invalid input: ABCDE1234@. All inputs must be alphanumeric.\n"
     ]
    }
   ],
   "source": [
    "import re\n",
    "\n",
    "def alpha(func):\n",
    "    def wrapper(*s, **k):\n",
    "        for i in s:\n",
    "            if not isinstance(i, str) or not i.isalnum():\n",
    "                return \"Invalid input: {}. All inputs must be alphanumeric.\".format(i)\n",
    "        return func(*s, **k)\n",
    "    return wrapper\n",
    "\n",
    "def pan_validate(pan):\n",
    "    pattern = r'^[A-Z]{5}[0-9]{4}[A-Z]$'\n",
    "    return bool(re.match(pattern, pan))\n",
    "\n",
    "@alpha\n",
    "def check(pan):\n",
    "    if pan_validate(pan):\n",
    "        return \"PAN {} is valid.\".format(pan)\n",
    "    else:\n",
    "        return \"PAN {} is invalid.\".format(pan)\n",
    "\n",
    "\n",
    "print(check(\"ABCDE1234F\"))\n",
    "print(check(\"AB123E456F\"))  \n",
    "print(check(\"ABCDE1234@\"))  \n"
   ]
  },
  {
   "cell_type": "markdown",
   "id": "66874b3c-df1f-4b3a-a8e6-d4a77c4d617c",
   "metadata": {},
   "source": [
    "### 16.\tAccept 2 values from user and perform all arithmetic operations and return all"
   ]
  },
  {
   "cell_type": "code",
   "execution_count": 357,
   "id": "79391f78-cdbf-48f5-9c3e-cff93f69f99b",
   "metadata": {},
   "outputs": [
    {
     "name": "stdin",
     "output_type": "stream",
     "text": [
      "enter value 1 (integer/float):  1\n",
      "enter value 2 (integer/float):  2\n"
     ]
    },
    {
     "name": "stdout",
     "output_type": "stream",
     "text": [
      "\n",
      "Arithmetic Operations:\n",
      "(Addition, Subtraction, Multiplication, Division): (3, -1, 2, 0.5)\n"
     ]
    }
   ],
   "source": [
    "def arith():\n",
    "    l2 = []\n",
    "    try:\n",
    "        a = eval(input(\"enter value 1 (integer/float): \"))\n",
    "        b = eval(input(\"enter value 2 (integer/float): \"))\n",
    "        \n",
    "        print(\"\")\n",
    "        print(\"Arithmetic Operations:\")\n",
    "        add = a + b\n",
    "        l2.append(add)\n",
    "        sub = a - b\n",
    "        l2.append(sub)\n",
    "        mul = a * b\n",
    "        l2.append(mul)\n",
    "        div = a / b\n",
    "        l2.append(div)\n",
    "        \n",
    "        t1 = tuple(l2)\n",
    "        print(\"(Addition, Subtraction, Multiplication, Division):\", t1)\n",
    "\n",
    "    except NameError:\n",
    "        print(\"please enter the float or integer values only\")\n",
    "        \n",
    "            \n",
    "\n",
    "arith()"
   ]
  },
  {
   "cell_type": "markdown",
   "id": "35718eb7-9299-4d35-b96c-b7fb6d995b44",
   "metadata": {},
   "source": [
    "### 17.\tAsk user to enter any 3 input e.g name, marks , mobile_num\n",
    "#### if name is with other special characters then it should not not ask for next makrs input\n",
    "#### \tnote: \n",
    "#### o\tCreate separate functions for validation of every variable \n",
    "#### o\tEvery single block should have proper exception\n",
    "#### o\tEvery function must have the docstring\n",
    "#### o\tOnce the validation is done dictionary has to be created and store the dictionary to one txt file"
   ]
  },
  {
   "cell_type": "code",
   "execution_count": 401,
   "id": "e68fd93f-0d0b-42e6-bee3-d2e9639f7035",
   "metadata": {},
   "outputs": [
    {
     "name": "stdin",
     "output_type": "stream",
     "text": [
      "Enter the nmae:  Aftab\n",
      "Enter the marks(out of 300):  245\n",
      "Enter your mobile number:  9123456789\n"
     ]
    },
    {
     "name": "stdout",
     "output_type": "stream",
     "text": [
      "All Validated\n",
      "{'Name': 'Aftab', 'Marks': '245', 'Mob': '9123456789'}\n"
     ]
    }
   ],
   "source": [
    "import re\n",
    "import sys\n",
    "\n",
    "d1 = {\"Name\":\"\",\"Marks\":\"\",\"Mob\":\"\"}\n",
    "\n",
    "def name_val():\n",
    "    \"\"\"\n",
    "    this function tries to validates name.\n",
    "    and raises exceptoin if it is not valid.\n",
    "    \"\"\"\n",
    "    global name\n",
    "    name = input(\"Enter the nmae: \")\n",
    "    try: \n",
    "        if re.match(r\"^[A-Z][A-z]*[a-z]$\", name):\n",
    "            return \"Name Validated\"\n",
    "        else:\n",
    "            raise Exception(\"Please enter the correct name\")\n",
    "    except Exception:\n",
    "        print(sys.exc_info()[1])\n",
    "    \n",
    "\n",
    "def marks_val():\n",
    "    \"\"\"\n",
    "    this function tries to validate marks.\n",
    "    and raises exceptoin if it is not valid.\n",
    "    \"\"\"\n",
    "    try:\n",
    "        global marks \n",
    "        marks = input(\"Enter the marks(out of 300): \")\n",
    "        try:\n",
    "            if re.match(r\"[0-300]\", marks):\n",
    "                return \"Marks Validated\"\n",
    "                \n",
    "            else:\n",
    "                raise Exception(\"Please enter valid marks\")\n",
    "    \n",
    "        except Exception:\n",
    "            print(sys.exc_info()[1])\n",
    "            \n",
    "    except ValueError:\n",
    "        print(\"alphabetic characters are not allowed\")\n",
    "\n",
    "            \n",
    "def mobile_val():\n",
    "    \"\"\"\n",
    "    this function tries to validate mobile number.\n",
    "    and raises exceptoin if it is not valid.\n",
    "    \"\"\"\n",
    "    try:\n",
    "        global num\n",
    "        num = input(\"Enter your mobile number: \")\n",
    "        try:\n",
    "            if re.match(r\"^[6-9][0-9]{9}\", num):\n",
    "                return \"Mobile Number Validated\"\n",
    "                \n",
    "            else:\n",
    "                raise Exception(\"Invalid Mobile Number\")\n",
    "        \n",
    "        except Exception:\n",
    "            print(sys.exc_info()[1])\n",
    "\n",
    "    except ValueError:\n",
    "        print(\"alphabetic characters are not allowed\")\n",
    "    \n",
    "\n",
    "\n",
    "if name_val():\n",
    "    d1[\"Name\"] = name\n",
    "    if marks_val():\n",
    "        d1[\"Marks\"] = marks\n",
    "        if mobile_val():\n",
    "            d1[\"Mob\"] = num\n",
    "            print(\"All Validated\")\n",
    "            print(d1)\n",
    "\n",
    "\n"
   ]
  },
  {
   "cell_type": "markdown",
   "id": "b16b9235-82e7-49b3-a9cf-c6d8b97f47c4",
   "metadata": {},
   "source": [
    "### 18.\tSegregate file in small , medium and large size in different folder\n",
    "#### o\tfilesize less than and equal to 10KB is small file\n",
    "#### o\tfilesize more than 10 KB is the medium file\n",
    "#### o\tfilesize more than 40 kb is the large file\n",
    "#### o\tcreate the log file \n"
   ]
  },
  {
   "cell_type": "code",
   "execution_count": 424,
   "id": "617f53fb-43d5-4c64-bb85-81e33696fc6c",
   "metadata": {},
   "outputs": [
    {
     "name": "stderr",
     "output_type": "stream",
     "text": [
      "INFO:mylogs:files listed\n"
     ]
    },
    {
     "name": "stdout",
     "output_type": "stream",
     "text": [
      "Files: ['Aftab Ashikali Tamboli.pdf', 'Design of Experiments.pdf', 'e-EPIC_TML9691155.pdf', 'End Sem Practical.pdf', 'Fee Receipt 30000.pdf', 'Fee Receipt 50000.pdf', 'Fees Receipt 13-10.pdf', 'fees receipt.pdf', 'feesreceipt22_7.pdf', 'First Year Result.pdf', 'FRC_DL_AY2024_46072.pdf', 'FY+SY+TY.pdf', 'ilovepdf_merged.pdf', 'Machine Learning.pdf', 'MA_MSc_Entrance Syllabus _2022_16062022.pdf', 'ml unit 3.pdf', 'Modern College Online Exam Instruction.pdf', 'NDA (Biz-Metric) (1).pdf', 'NDA (Biz-Metric).pdf', 'OnlineFeeReciptMITWPU.pdf', 'Pan Card.pdf', 'payslip_jan.pdf', 'payslip_mar.pdf', 'R Lab Assignment.pdf', 'R Lab Assignment_2.pdf', 'R Lab Assignment_3.pdf', 'Savitribai Phule Pune University, Online Result.pdf', 'Sem 2.pdf', 'Sem.pdf', 'SERVICE AGREEMENT (1).pdf', 'SERVICE AGREEMENT.pdf', 'SPPU Convocation.pdf', 'SQL Assignment 1.pdf', 'Third Year Result.pdf', 'Time Series.pdf']\n",
      "D:\\Dossier\\Aftab Ashikali Tamboli.pdf 121.490234375 KB\n",
      "Files Copied to folder: Medium\n",
      "D:\\Dossier\\Design of Experiments.pdf 343441.2080078125 KB\n",
      "Files Copied to folder: Large\n",
      "D:\\Dossier\\e-EPIC_TML9691155.pdf 1150.19140625 KB\n",
      "Files Copied to folder: Large\n",
      "D:\\Dossier\\End Sem Practical.pdf 374.8447265625 KB\n",
      "Files Copied to folder: Medium\n",
      "D:\\Dossier\\Fee Receipt 30000.pdf 110.640625 KB\n",
      "Files Copied to folder: Medium\n",
      "D:\\Dossier\\Fee Receipt 50000.pdf 121.2548828125 KB\n",
      "Files Copied to folder: Medium\n",
      "D:\\Dossier\\Fees Receipt 13-10.pdf 241.8974609375 KB\n",
      "Files Copied to folder: Medium\n",
      "D:\\Dossier\\fees receipt.pdf 444.7294921875 KB\n",
      "Files Copied to folder: Medium\n",
      "D:\\Dossier\\feesreceipt22_7.pdf 239.75 KB\n",
      "Files Copied to folder: Medium\n",
      "D:\\Dossier\\First Year Result.pdf 1119.29296875 KB\n",
      "Files Copied to folder: Large\n",
      "D:\\Dossier\\FRC_DL_AY2024_46072.pdf 122.845703125 KB\n",
      "Files Copied to folder: Medium\n",
      "D:\\Dossier\\FY+SY+TY.pdf 1281.626953125 KB\n",
      "Files Copied to folder: Large\n",
      "D:\\Dossier\\ilovepdf_merged.pdf 6418.28515625 KB\n",
      "Files Copied to folder: Large\n",
      "D:\\Dossier\\Machine Learning.pdf 9408.0 KB\n",
      "Files Copied to folder: Large\n",
      "D:\\Dossier\\MA_MSc_Entrance Syllabus _2022_16062022.pdf 20.2607421875 KB\n",
      "Files Copied to folder: Small\n",
      "D:\\Dossier\\ml unit 3.pdf 45228.7080078125 KB\n"
     ]
    },
    {
     "name": "stderr",
     "output_type": "stream",
     "text": [
      "WARNING:mylogs:All files copied to particular folders\n"
     ]
    },
    {
     "name": "stdout",
     "output_type": "stream",
     "text": [
      "Files Copied to folder: Large\n",
      "D:\\Dossier\\Modern College Online Exam Instruction.pdf 417.439453125 KB\n",
      "Files Copied to folder: Medium\n",
      "D:\\Dossier\\NDA (Biz-Metric) (1).pdf 527.638671875 KB\n",
      "Files Copied to folder: Large\n",
      "D:\\Dossier\\NDA (Biz-Metric).pdf 527.638671875 KB\n",
      "Files Copied to folder: Large\n",
      "D:\\Dossier\\OnlineFeeReciptMITWPU.pdf 435.990234375 KB\n",
      "Files Copied to folder: Medium\n",
      "D:\\Dossier\\Pan Card.pdf 898.4755859375 KB\n",
      "Files Copied to folder: Large\n",
      "D:\\Dossier\\payslip_jan.pdf 19.4365234375 KB\n",
      "Files Copied to folder: Small\n",
      "D:\\Dossier\\payslip_mar.pdf 19.5234375 KB\n",
      "Files Copied to folder: Small\n",
      "D:\\Dossier\\R Lab Assignment.pdf 419.0224609375 KB\n",
      "Files Copied to folder: Medium\n",
      "D:\\Dossier\\R Lab Assignment_2.pdf 418.7802734375 KB\n",
      "Files Copied to folder: Medium\n",
      "D:\\Dossier\\R Lab Assignment_3.pdf 421.09765625 KB\n",
      "Files Copied to folder: Medium\n",
      "D:\\Dossier\\Savitribai Phule Pune University, Online Result.pdf 170.0888671875 KB\n",
      "Files Copied to folder: Medium\n",
      "D:\\Dossier\\Sem 2.pdf 2367.9580078125 KB\n",
      "Files Copied to folder: Large\n",
      "D:\\Dossier\\Sem.pdf 2367.9462890625 KB\n",
      "Files Copied to folder: Large\n",
      "D:\\Dossier\\SERVICE AGREEMENT (1).pdf 389.830078125 KB\n",
      "Files Copied to folder: Medium\n",
      "D:\\Dossier\\SERVICE AGREEMENT.pdf 389.857421875 KB\n",
      "Files Copied to folder: Medium\n",
      "D:\\Dossier\\SPPU Convocation.pdf 247.416015625 KB\n",
      "Files Copied to folder: Medium\n",
      "D:\\Dossier\\SQL Assignment 1.pdf 700.46484375 KB\n",
      "Files Copied to folder: Large\n",
      "D:\\Dossier\\Third Year Result.pdf 5300.123046875 KB\n",
      "Files Copied to folder: Large\n",
      "D:\\Dossier\\Time Series.pdf 398.6904296875 KB\n",
      "Files Copied to folder: Medium\n"
     ]
    }
   ],
   "source": [
    "import os\n",
    "import shutil\n",
    "import logging\n",
    "\n",
    "logging.basicConfig(level = logging.INFO)\n",
    "logger = logging.getLogger('mylogs')\n",
    "get_log = logging.FileHandler('abc.log')\n",
    "get_log.setLevel(logging.WARNING)\n",
    "logger.addHandler(get_log)\n",
    "\n",
    "files = os.listdir(r\"D:\\Dossier\")\n",
    "logger.info(\"files listed\")\n",
    "print(\"Files:\", files)\n",
    "\n",
    "for i in files:\n",
    "    filename = \"D:\\\\Dossier\\\\\" + i\n",
    "    sz = os.stat(filename).st_size / 1024  \n",
    "    print(filename, sz, \"KB\")\n",
    "\n",
    "    if sz <= 100:\n",
    "        shutil.copy(filename, \"D:\\\\Work Related\\\\FIle Handling\\\\Small\\\\\")\n",
    "        print(\"Files Copied to folder: Small\")\n",
    "    elif 100 < sz <= 500:\n",
    "        shutil.copy(filename, \"D:\\\\Work Related\\\\FIle Handling\\\\Medium\\\\\")\n",
    "        print(\"Files Copied to folder: Medium\")\n",
    "    else:\n",
    "        shutil.copy(filename, \"D:\\\\Work Related\\\\FIle Handling\\\\Large\\\\\")\n",
    "        print(\"Files Copied to folder: Large\")\n",
    "\n",
    "logger.warning(\"All files copied to particular folders\")"
   ]
  },
  {
   "cell_type": "markdown",
   "id": "51e1b6cc-08b7-4b3f-948f-7dedb8753d05",
   "metadata": {},
   "source": [
    "### 19.\tIn the hotel user is entering the details of menu, quantity and printing the bill. number of menu may varies with customer's order generate a file having grocery bill as per the below format"
   ]
  },
  {
   "cell_type": "code",
   "execution_count": 714,
   "id": "0a169fbe-1ef7-4198-9d97-562c9de19d87",
   "metadata": {},
   "outputs": [
    {
     "name": "stdout",
     "output_type": "stream",
     "text": [
      "\n",
      "1. To enter the item.\n",
      "2. To exit.\n",
      "\n"
     ]
    },
    {
     "name": "stdin",
     "output_type": "stream",
     "text": [
      "Enter your choice:  Idli\n"
     ]
    },
    {
     "name": "stderr",
     "output_type": "stream",
     "text": [
      "ERROR:root:Invalid input for choice: invalid literal for int() with base 10: 'Idli'\n"
     ]
    },
    {
     "name": "stdout",
     "output_type": "stream",
     "text": [
      "Invalid choice! Please enter 1 or 2.\n"
     ]
    },
    {
     "name": "stdin",
     "output_type": "stream",
     "text": [
      "Enter your choice:  1\n",
      "Enter the item:  Idli\n",
      "Enter the quantity:  \n"
     ]
    },
    {
     "name": "stderr",
     "output_type": "stream",
     "text": [
      "ERROR:root:Invalid input for quantity or price: invalid literal for int() with base 10: ''\n"
     ]
    },
    {
     "name": "stdout",
     "output_type": "stream",
     "text": [
      "Invalid input! Please enter a valid quantity and price.\n"
     ]
    },
    {
     "name": "stdin",
     "output_type": "stream",
     "text": [
      "Enter your choice:  1\n",
      "Enter the item:  Idli\n",
      "Enter the quantity:  20\n",
      "Enter the price:  10\n"
     ]
    },
    {
     "name": "stdout",
     "output_type": "stream",
     "text": [
      "Total: 200.0\n"
     ]
    },
    {
     "name": "stdin",
     "output_type": "stream",
     "text": [
      "Enter your choice:  1\n",
      "Enter the item:  Dosa\n",
      "Enter the quantity:  50\n",
      "Enter the price:  5\n"
     ]
    },
    {
     "name": "stdout",
     "output_type": "stream",
     "text": [
      "Total: 450.0\n"
     ]
    },
    {
     "name": "stdin",
     "output_type": "stream",
     "text": [
      "Enter your choice:  2\n"
     ]
    },
    {
     "name": "stdout",
     "output_type": "stream",
     "text": [
      "Thank you for using our program.\n",
      "[200.0, 250.0]\n",
      "[{'item': 'Idli', 'Quantity': 20, 'Price': 10.0, 'Total Price per Item': 200.0}, {'item': 'Dosa', 'Quantity': 50, 'Price': 5.0, 'Total Price per Item': 250.0}]\n",
      "--------------------------------------------------\n",
      "               Welcome to Blue Nile               \n",
      "--------------------------------------------------\n",
      "Item      Quantity      Price      Price per Item\n",
      "Idli          20          10.0          200.0          \n",
      "Dosa          50          5.0          250.0          \n",
      "--------------------------------------------------\n",
      "Total:                                450.0\n",
      "--------------------------------------------------\n"
     ]
    }
   ],
   "source": [
    "import logging\n",
    "\n",
    "# Configure logging\n",
    "logging.basicConfig(filename='app.log', level=logging.ERROR,\n",
    "                    format='%(asctime)s - %(levelname)s - %(message)s')\n",
    "\n",
    "print(\"\"\"\n",
    "1. To enter the item.\n",
    "2. To exit.\n",
    "\"\"\")\n",
    "\n",
    "l = []\n",
    "l1 = []\n",
    "\n",
    "while True:\n",
    "    try:\n",
    "        choice = int(input(\"Enter your choice: \"))\n",
    "        if choice == 1:\n",
    "            item = input(\"Enter the item: \")\n",
    "            \n",
    "            try:\n",
    "                quantity = int(input(\"Enter the quantity: \"))\n",
    "                price = float(input(\"Enter the price: \"))\n",
    "                if quantity < 0 or price < 0:\n",
    "                    raise ValueError(\"Quantity and price must be non-negative.\")\n",
    "            except ValueError as e:\n",
    "                logging.error(f\"Invalid input for quantity or price: {e}\")\n",
    "                print(\"Invalid input! Please enter a valid quantity and price.\")\n",
    "                continue\n",
    "            \n",
    "            tpq = quantity * price\n",
    "            d = {\"item\": item, \"Quantity\": quantity, \"Price\": price, \"Total Price per Item\": tpq}\n",
    "            l1.append(d)\n",
    "            l.append(tpq)\n",
    "            Total = sum(l)\n",
    "            print(f\"Total: {Total}\")\n",
    "        \n",
    "        elif choice == 2:\n",
    "            print(\"Thank you for using our program.\")\n",
    "            break\n",
    "        else:\n",
    "            print(\"Invalid choice. Please try again.\")\n",
    "    except ValueError as e:\n",
    "        logging.error(f\"Invalid input for choice: {e}\")\n",
    "        print(\"Invalid choice! Please enter 1 or 2.\")\n",
    "\n",
    "print(l)\n",
    "print(l1)\n",
    "\n",
    "print('-' * 50 + \"\\n{:^50}\".format(\"Welcome to Blue Nile\") + '\\n' + '-' * 50)\n",
    "print(\"\"\"Item      Quantity      Price      Price per Item\"\"\")\n",
    "\n",
    "for i in l1:\n",
    "    for j in i.values():\n",
    "        print(j, end=\"          \", sep=\"   \")\n",
    "    print()\n",
    "\n",
    "print('-' * 50)\n",
    "print(f\"Total:                                {Total}\")\n",
    "print('-' * 50)"
   ]
  },
  {
   "cell_type": "markdown",
   "id": "1e9a055f-041f-423e-b36d-09198f3b0195",
   "metadata": {},
   "source": [
    "### 20.\tAsk user to enter the valid file path and check which word is having more repetition in the file"
   ]
  },
  {
   "cell_type": "code",
   "execution_count": 710,
   "id": "b24451f3-23d0-4103-94c3-40bfd4c21dd9",
   "metadata": {},
   "outputs": [
    {
     "name": "stdin",
     "output_type": "stream",
     "text": [
      "enter file path:  D:\\Work Related\\VS Code\\test.txt\n"
     ]
    },
    {
     "name": "stdout",
     "output_type": "stream",
     "text": [
      "Most frequent word: 'the' (3 times)\n"
     ]
    }
   ],
   "source": [
    "def freq(file_path):\n",
    "    with open(file_path, 'r') as file:\n",
    "        words = file.read().lower().split()\n",
    "\n",
    "    cnt = {}\n",
    "    for i in words:\n",
    "        if i in cnt:\n",
    "            cnt[i] += 1\n",
    "        else:\n",
    "            cnt[i] = 1\n",
    "\n",
    "    com = \"\"\n",
    "    mx = 0\n",
    "\n",
    "    for j in cnt:\n",
    "        if cnt[j] > mx:\n",
    "            mx = cnt[j]\n",
    "            com = j\n",
    "\n",
    "    print(f\"Most frequent word: '{com}' ({mx} times)\")\n",
    "\n",
    "file_path = input(\"enter file path: \")\n",
    "freq(file_path)\n"
   ]
  },
  {
   "cell_type": "markdown",
   "id": "d897c90a-109f-45f2-9afb-7453dac22261",
   "metadata": {},
   "source": [
    "### 21.\tCreate a function which will accept the word and the file path and returns the dictionary as {word: occurances}"
   ]
  },
  {
   "cell_type": "code",
   "execution_count": 705,
   "id": "8dcb877e-6914-4620-931e-b2f1968a7881",
   "metadata": {},
   "outputs": [
    {
     "name": "stdout",
     "output_type": "stream",
     "text": [
      "{'example': 3}\n"
     ]
    }
   ],
   "source": [
    "def occ(word, path):\n",
    "    with open(path, 'r') as file:\n",
    "        txt = file.read().lower() \n",
    "    cnt = txt.split().count(word.lower())\n",
    "    return {word: cnt}\n",
    "\n",
    "\n",
    "a = occ(\"example\", r\"D:\\Work Related\\VS Code\\question21.txt\")\n",
    "print(a)"
   ]
  },
  {
   "cell_type": "markdown",
   "id": "8c457df4-6807-48c0-a681-34089747bee5",
   "metadata": {},
   "source": [
    "### 22.\tCreate a function which will accept one file and returns all occurrences of the word {‘market’ : 3, ‘is’:5, ‘new’:2}\n"
   ]
  },
  {
   "cell_type": "code",
   "execution_count": 698,
   "id": "96c0b1da-9554-4df4-8af2-ca7257e6db3b",
   "metadata": {},
   "outputs": [
    {
     "name": "stdout",
     "output_type": "stream",
     "text": [
      "{'the': 3, 'market': 3, 'is': 3, 'new': 2, 'growing': 1, 'this': 1}\n"
     ]
    }
   ],
   "source": [
    "def fileword(path):\n",
    "    with open(path, 'r') as file:\n",
    "        text = file.read().lower()\n",
    "        words = text.split()\n",
    "        counts = {}\n",
    "        for word in words:\n",
    "            a = \"\"\n",
    "            for char in word:\n",
    "                if char.isalnum():\n",
    "                    a = a +char\n",
    "            if a:\n",
    "                if a in counts:\n",
    "                    counts[a] += 1\n",
    "                else:\n",
    "                    counts[a] = 1\n",
    "        return counts\n",
    "\n",
    "path = r\"D:\\Work Related\\VS Code\\test.txt\"\n",
    "print(fileword(path))"
   ]
  },
  {
   "cell_type": "markdown",
   "id": "cee56949-b45c-4e77-8dd0-80090bff723d",
   "metadata": {},
   "source": [
    "### 23.\tBased on logic mentioned in question number 8 create the class"
   ]
  },
  {
   "cell_type": "code",
   "execution_count": 681,
   "id": "c71863c9-031d-40d4-8758-35916519f6c2",
   "metadata": {},
   "outputs": [],
   "source": [
    "class handle:\n",
    "    def __init__(self, data):\n",
    "        self.data = data\n",
    "    \n",
    "    def display_keys_values(self):\n",
    "        print(\"Keys:\")\n",
    "        for key in self.data.keys():\n",
    "            print(key)\n",
    "        \n",
    "        print(\"\\nValues:\")\n",
    "        for value in self.data.values():\n",
    "            print(value)"
   ]
  },
  {
   "cell_type": "code",
   "execution_count": 683,
   "id": "5b307faa-30ac-4b92-a48a-e6335c3bb616",
   "metadata": {},
   "outputs": [
    {
     "name": "stdout",
     "output_type": "stream",
     "text": [
      "Keys:\n",
      "name\n",
      "age\n",
      "city\n",
      "\n",
      "Values:\n",
      "Alice\n",
      "25\n",
      "New York\n"
     ]
    }
   ],
   "source": [
    "d1 = {\"name\": \"Alice\", \"age\": 25, \"city\": \"New York\"}\n",
    "dh = handle(d1)\n",
    "dh.display_keys_values()"
   ]
  },
  {
   "cell_type": "markdown",
   "id": "fd24f616-727f-43a3-9bbc-a4f6d0506cb8",
   "metadata": {},
   "source": [
    "### 24.\tAsk user to enter the folder path. Folder may contain more than one file and with different extensions. Read only text file and return the more repetitive word"
   ]
  },
  {
   "cell_type": "code",
   "execution_count": 678,
   "id": "c48b7011-bcfd-4cf4-92fd-4ca6831be1f2",
   "metadata": {},
   "outputs": [
    {
     "name": "stdin",
     "output_type": "stream",
     "text": [
      "Enter the folder path:  D:\\Dossier\n"
     ]
    },
    {
     "name": "stdout",
     "output_type": "stream",
     "text": [
      "\n",
      "--- numbers.txt ---\n",
      "\n",
      "User1: 45, 78, 23\n",
      "User2: No numbers here\n",
      "User3: 100 200 300\n",
      "User4: 5 apples, 10 bananas, 15 oranges\n",
      "User5: 99-88-77-66\n",
      "\n",
      "--- Questionaries (1).txt ---\n",
      "\n",
      "1) find the average currency rate conversion from USD to Algerian Dinar and Australian Doller \n",
      "2) Find the products having offer on it and display product name , safety Stock Level, Listprice,  and product model id\n",
      "3) create  view to display Product name and Product review\n",
      "4) find out the vendor for product   paint, Adjustable Race and blade\t \n",
      "5) find product details shipped through ZY - EXPRESS\n",
      "6) find the tax amt for products where order date and ship date are on the same day\n",
      "7) find the average days required to ship the product based on shipment type.\n",
      "8) find the name of employees working in day shift\n",
      "9) based on product and product cost history find the name , service provider time and average Standardcost  \n",
      "10) find products with average cost more than 500\n",
      "11) find the employee who worked in multiple territory\n",
      "12) find out the Product model name,  product description for culture  as Arabic\n",
      "13) display EMP name, territory name, saleslastyear salesquota and bonus\n",
      "14) display EMP name, territory name, saleslastyear salesquota and bonus from Germany and United Kingdom\n",
      "15) Find all employees who worked in all North America territory\n",
      "16) find all products in the cart\n",
      "17) find all the products with special offer\n",
      "18) find all employees name , job title, card details whose credit card expired in the month 11 and year as 2008\n",
      "\n",
      "--- sample.txt ---\n",
      "\n",
      "This is a sample text file.\n",
      "This file contains some random words.\n",
      "Some words appear more frequently than others.\n",
      "For example, the word 'sample' appears twice.\n",
      "Let's see how the script processes this file.\n",
      "\n"
     ]
    }
   ],
   "source": [
    "import os\n",
    "\n",
    "folder_path = input(\"Enter the folder path: \")\n",
    "\n",
    "if os.path.isdir(folder_path):\n",
    "    for file in os.listdir(folder_path):\n",
    "        if file.endswith(\".txt\"):\n",
    "            with open(os.path.join(folder_path, file), \"r\", encoding=\"utf-8\", errors=\"ignore\") as f:\n",
    "                print(f\"\\n--- {file} ---\\n\")\n",
    "                print(f.read())\n",
    "else:\n",
    "    print(\"Invalid folder path.\")\n"
   ]
  },
  {
   "cell_type": "code",
   "execution_count": null,
   "id": "63189248-a5d4-4178-aaf4-c3a3acf5c53b",
   "metadata": {},
   "outputs": [],
   "source": []
  },
  {
   "cell_type": "markdown",
   "id": "0b322d1a-fd5e-405e-b44d-037c2c54d52b",
   "metadata": {},
   "source": [
    "### 25.\tCreate a class for file reading"
   ]
  },
  {
   "cell_type": "code",
   "execution_count": 663,
   "id": "23eeb355-fbf8-41dc-ad8d-a97adad6a732",
   "metadata": {},
   "outputs": [
    {
     "name": "stdout",
     "output_type": "stream",
     "text": [
      "User1: 45, 78, 23\n",
      "\n",
      "User2: No numbers here\n",
      "\n",
      "User3: 100 200 300\n",
      "\n",
      "User4: 5 apples, 10 bananas, 15 oranges\n",
      "\n",
      "User5: 99-88-77-66\n"
     ]
    }
   ],
   "source": [
    "class reading:\n",
    "    def __init__(self, file_path):\n",
    "        self.file_path = file_path\n",
    "    \n",
    "    def read_file(self):\n",
    "        with open(self.file_path, 'r') as file:\n",
    "            return file.readlines()\n",
    "\n",
    "a = reading(r\"D:\\Work Related\\numbers.txt\")\n",
    "b = a.read_file()\n",
    "for i in b:\n",
    "    print(i)"
   ]
  },
  {
   "cell_type": "markdown",
   "id": "f4959973-d326-4c36-9637-ea95b9f93ad9",
   "metadata": {},
   "source": [
    "### 26.\tCreate a function which will accept the dictionary. Dictionary may have values any date type format. If values are in integer or float then return respective key"
   ]
  },
  {
   "cell_type": "code",
   "execution_count": 654,
   "id": "0fde4633-3957-4cb3-a7b6-af7d5dac672d",
   "metadata": {},
   "outputs": [],
   "source": [
    "def dictionary(input_dict):\n",
    "    num = []\n",
    "    for key, value in input_dict.items():\n",
    "        if isinstance(value, (int, float)):\n",
    "            num.append(key)\n",
    "    return numeric_keys"
   ]
  },
  {
   "cell_type": "code",
   "execution_count": 656,
   "id": "6d648698-e315-4564-9198-1a4106adaf81",
   "metadata": {},
   "outputs": [
    {
     "name": "stdout",
     "output_type": "stream",
     "text": [
      "['age', 'salary', 'experience', 'is_manager']\n"
     ]
    }
   ],
   "source": [
    "data = {\n",
    "    \"name\": \"aftab\",\n",
    "    \"age\": 24,\n",
    "    \"salary\": 35000.125,\n",
    "    \"department\": \"Data Science\",\n",
    "    \"experience\": 5,\n",
    "    \"is_manager\": False}\n",
    "\n",
    "num = dictionary(data)\n",
    "print(numeric_keys)"
   ]
  },
  {
   "cell_type": "markdown",
   "id": "7c799a26-e684-4b78-9b37-8e80d7baa15c",
   "metadata": {},
   "source": [
    "### 27.\tCreate one decorator having exception logic inside it and create another function which will refer to the decorator in case of errors e.g  val_name is the function validating name but customized error should be thrown from decorator\n"
   ]
  },
  {
   "cell_type": "code",
   "execution_count": 649,
   "id": "3aa6d769-84c9-4a91-aaeb-0daeb4c2b1e2",
   "metadata": {},
   "outputs": [
    {
     "name": "stdin",
     "output_type": "stream",
     "text": [
      "Enter a name:  Atfab123\n"
     ]
    },
    {
     "name": "stdout",
     "output_type": "stream",
     "text": [
      "Error: Name must contain only alphabets.\n"
     ]
    }
   ],
   "source": [
    "def exception_handler(func):\n",
    "    def wrapper(*s, **k):\n",
    "        try:\n",
    "            return func(*s, **k)\n",
    "        except ValueError as e:\n",
    "            return f\"Error: {e}\"\n",
    "    return wrapper\n",
    "\n",
    "@exception_handler\n",
    "def val_name(name):\n",
    "    if not name.isalpha():\n",
    "        raise ValueError(\"Name must contain only alphabets.\")\n",
    "    return \"Valid Name: {}\".format(name)\n",
    "\n",
    "name_input = input(\"Enter a name: \")\n",
    "print(val_name(name_input))"
   ]
  },
  {
   "cell_type": "markdown",
   "id": "a74a244c-fa98-4c8f-9bb6-ed07d486ffec",
   "metadata": {},
   "source": [
    "### 28.\tCreate a class User.  User will be instantiated based on key available in the dictionary. If dictionary is not having the key then generate error. If dictionary is having the key then display values against the same."
   ]
  },
  {
   "cell_type": "code",
   "execution_count": 632,
   "id": "938d6282-9142-49d3-bf9a-3c66e2f4a835",
   "metadata": {},
   "outputs": [],
   "source": [
    "class User:\n",
    "    def __init__(self, user_data):\n",
    "        req = {\"name\", \"age\", \"email\"}\n",
    "        miss = [key for key in req if key not in user]\n",
    "        if miss:\n",
    "            raise Exception(\"Missing keys: \" + str(miss))\n",
    "        \n",
    "        self.name = user_data[\"name\"]\n",
    "        self.age = user_data[\"age\"]\n",
    "        self.email = user_data[\"email\"]\n",
    "        \n",
    "    def display(self):\n",
    "        print(f\"Name: {self.name}, Age: {self.age}, Email: {self.email}\")"
   ]
  },
  {
   "cell_type": "code",
   "execution_count": 634,
   "id": "51e0570c-eefd-4843-a33e-83f4e60fe11b",
   "metadata": {},
   "outputs": [
    {
     "name": "stdin",
     "output_type": "stream",
     "text": [
      "Enter name:  Aftab\n",
      "Enter age:  24\n",
      "Enter email:  aftab@gmail.com\n"
     ]
    },
    {
     "name": "stdout",
     "output_type": "stream",
     "text": [
      "Name: Aftab, Age: 24, Email: aftab@gmail.com\n"
     ]
    }
   ],
   "source": [
    "user = {}\n",
    "user[\"name\"] = input(\"Enter name: \")\n",
    "user[\"age\"] = int(input(\"Enter age: \"))\n",
    "user[\"email\"] = input(\"Enter email: \")\n",
    "\n",
    "user = User(user)\n",
    "user.display()"
   ]
  },
  {
   "cell_type": "markdown",
   "id": "07572c7c-03f4-47c9-a100-307b33c756ab",
   "metadata": {},
   "source": [
    "### 29.\tCreate a class pharma. One user A will enter the medicine name and price.  Another user B will generate the bill based on entry done by the first user"
   ]
  },
  {
   "cell_type": "code",
   "execution_count": 613,
   "id": "ed0fa254-551c-4dae-90a3-84da609f7228",
   "metadata": {},
   "outputs": [],
   "source": [
    "class Pharma:\n",
    "    def __init__(self):\n",
    "        self.medicines = {}\n",
    "    \n",
    "    def add_medicine(self):\n",
    "        while True:\n",
    "            name = input(\"Enter medicine name (or 'done' to finish): \")\n",
    "            if name.lower() == 'done':\n",
    "                break\n",
    "            price = float(input(f\"Enter price for {name}: \"))\n",
    "            self.medicines[name] = price\n",
    "            print(f\"Medicine '{name}' added with price {price}.\")\n",
    "    \n",
    "    def generate_bill(self):\n",
    "        purchased_medicines = {}\n",
    "        print(\"\\nEnter purchased medicines and quantities:\")\n",
    "        while True:\n",
    "            med = input(\"Enter medicine name (or 'done' to finish): \")\n",
    "            if med.lower() == 'done':\n",
    "                break\n",
    "            qty = int(input(f\"Enter quantity for {med}: \"))\n",
    "            purchased_medicines[med] = qty\n",
    "        \n",
    "        total = 0\n",
    "        print(\"\\nBill:\")\n",
    "        print(\"-----------------------------------\")\n",
    "        for med, qty in purchased_medicines.items():\n",
    "            if med in self.medicines:\n",
    "                cost = self.medicines[med] * qty\n",
    "                total += cost\n",
    "                print(f\"{med} x {qty} = {cost}\")\n",
    "            else:\n",
    "                print(f\"{med} is not available.\")\n",
    "        print(\"-----------------------------------\")\n",
    "        print(f\"Total Amount: {total}\")"
   ]
  },
  {
   "cell_type": "code",
   "execution_count": 621,
   "id": "d8a97cd0-b9e6-4a36-9f02-48e80f3d5871",
   "metadata": {},
   "outputs": [
    {
     "name": "stdin",
     "output_type": "stream",
     "text": [
      "Enter medicine name (or 'done' to finish):  Vicks\n",
      "Enter price for Vicks:  5\n"
     ]
    },
    {
     "name": "stdout",
     "output_type": "stream",
     "text": [
      "Medicine 'Vicks' added with price 5.0.\n"
     ]
    },
    {
     "name": "stdin",
     "output_type": "stream",
     "text": [
      "Enter medicine name (or 'done' to finish):  Paracetamol\n",
      "Enter price for Paracetamol:  10\n"
     ]
    },
    {
     "name": "stdout",
     "output_type": "stream",
     "text": [
      "Medicine 'Paracetamol' added with price 10.0.\n"
     ]
    },
    {
     "name": "stdin",
     "output_type": "stream",
     "text": [
      "Enter medicine name (or 'done' to finish):  Combiflam\n",
      "Enter price for Combiflam:  7\n"
     ]
    },
    {
     "name": "stdout",
     "output_type": "stream",
     "text": [
      "Medicine 'Combiflam' added with price 7.0.\n"
     ]
    },
    {
     "name": "stdin",
     "output_type": "stream",
     "text": [
      "Enter medicine name (or 'done' to finish):  Strepsils\n",
      "Enter price for Strepsils:  20\n"
     ]
    },
    {
     "name": "stdout",
     "output_type": "stream",
     "text": [
      "Medicine 'Strepsils' added with price 20.0.\n"
     ]
    },
    {
     "name": "stdin",
     "output_type": "stream",
     "text": [
      "Enter medicine name (or 'done' to finish):  done\n"
     ]
    },
    {
     "name": "stdout",
     "output_type": "stream",
     "text": [
      "\n",
      "Enter purchased medicines and quantities:\n"
     ]
    },
    {
     "name": "stdin",
     "output_type": "stream",
     "text": [
      "Enter medicine name (or 'done' to finish):  Paracetamol\n",
      "Enter quantity for Paracetamol:  25\n",
      "Enter medicine name (or 'done' to finish):  Vicks\n",
      "Enter quantity for Vicks:  10\n",
      "Enter medicine name (or 'done' to finish):  Combiflam\n",
      "Enter quantity for Combiflam:  10\n",
      "Enter medicine name (or 'done' to finish):  Strepsils\n",
      "Enter quantity for Strepsils:  10\n",
      "Enter medicine name (or 'done' to finish):  done\n"
     ]
    },
    {
     "name": "stdout",
     "output_type": "stream",
     "text": [
      "\n",
      "Bill:\n",
      "-----------------------------------\n",
      "Paracetamol x 25 = 250.0\n",
      "Vicks x 10 = 50.0\n",
      "Combiflam x 10 = 70.0\n",
      "Strepsils x 10 = 200.0\n",
      "-----------------------------------\n",
      "Total Amount: 570.0\n"
     ]
    }
   ],
   "source": [
    "pharmacy = Pharma()\n",
    "pharmacy.add_medicine()\n",
    "pharmacy.generate_bill()"
   ]
  },
  {
   "cell_type": "markdown",
   "id": "3ae58c1f-9041-44ec-a43a-549446671431",
   "metadata": {},
   "source": [
    "### 30.\tRead the file if the file contains number, then return the dictionary based on position and values of the number."
   ]
  },
  {
   "cell_type": "code",
   "execution_count": 602,
   "id": "65ea13ab-f47f-4fa4-8eef-73732e66d801",
   "metadata": {},
   "outputs": [
    {
     "name": "stdout",
     "output_type": "stream",
     "text": [
      "{1: 1, 2: 45, 3: 78, 4: 23, 5: 2, 6: 3, 7: 100, 8: 200, 9: 300, 10: 4, 11: 5, 12: 10, 13: 15, 14: 5, 15: 99, 16: 88, 17: 77, 18: 66}\n"
     ]
    }
   ],
   "source": [
    "import re\n",
    "\n",
    "with open(r\"D:\\Work Related\\numbers.txt\") as file:\n",
    "    a = file.read()\n",
    "    mat = re.findall(r'\\d+', a)\n",
    "    d1 = {}\n",
    "    ind = 1\n",
    "    for num in mat:\n",
    "        d1[ind] = int(num)\n",
    "        ind += 1\n",
    "    print(numbers)"
   ]
  },
  {
   "cell_type": "code",
   "execution_count": null,
   "id": "bd294722-3159-4529-b5d3-afd2d5630f90",
   "metadata": {},
   "outputs": [],
   "source": []
  },
  {
   "cell_type": "markdown",
   "id": "34f81923-adba-4372-935d-837aaa6e9a46",
   "metadata": {},
   "source": [
    "### 31.\tCreate a class for file reading file if the file contains number, then return the dictionary based on user object, having sub dictionary position and values of the number against that user file."
   ]
  },
  {
   "cell_type": "code",
   "execution_count": 590,
   "id": "83c27be5-a80e-4482-b12d-38e4511e29a0",
   "metadata": {},
   "outputs": [],
   "source": [
    "import re\n",
    "\n",
    "class reader:\n",
    "    def __init__(self, file_path):\n",
    "        self.file_path = file_path\n",
    "    \n",
    "    def rf(self):\n",
    "        with open(self.file_path, 'r') as file:\n",
    "            data = {}\n",
    "            count = 1\n",
    "            for line in file:\n",
    "                nums = re.findall(r'\\d+', line)\n",
    "                if nums:\n",
    "                    data[f'User_{count}'] = {'Values': nums, 'Position': list(range(len(nums)))}\n",
    "                    count += 1\n",
    "            return data\n"
   ]
  },
  {
   "cell_type": "code",
   "execution_count": 592,
   "id": "aa446d96-0cba-4282-ab76-842fda361a3d",
   "metadata": {},
   "outputs": [
    {
     "name": "stdout",
     "output_type": "stream",
     "text": [
      "{'User_1': {'Values': ['1', '45', '78', '23'], 'Position': [0, 1, 2, 3]}, 'User_2': {'Values': ['2'], 'Position': [0]}, 'User_3': {'Values': ['3', '100', '200', '300'], 'Position': [0, 1, 2, 3]}, 'User_4': {'Values': ['4', '5', '10', '15'], 'Position': [0, 1, 2, 3]}, 'User_5': {'Values': ['5', '99', '88', '77', '66'], 'Position': [0, 1, 2, 3, 4]}}\n"
     ]
    }
   ],
   "source": [
    "print(reader(r\"D:\\Work Related\\numbers.txt\").rf())"
   ]
  },
  {
   "cell_type": "markdown",
   "id": "543b86b9-6ab6-4f7a-8ccd-a2d75609da33",
   "metadata": {},
   "source": [
    "### 32.\tIn hotel booking portal, user will enter pan card name and mobile number, store the same information into dictionary after successful booking user will get confirmation number. "
   ]
  },
  {
   "cell_type": "code",
   "execution_count": 566,
   "id": "af773c47-c279-42b9-b1c6-3a8c038e7320",
   "metadata": {},
   "outputs": [
    {
     "name": "stdin",
     "output_type": "stream",
     "text": [
      "enter your name:  aftab\n",
      "rnter pan card number:  153543\n",
      "Enter mobile number:  6454\n"
     ]
    },
    {
     "name": "stdout",
     "output_type": "stream",
     "text": [
      "your booking is successful and yor confirmation number is: 6251\n"
     ]
    }
   ],
   "source": [
    "import random\n",
    "\n",
    "book = {}\n",
    "\n",
    "def book_hotel():\n",
    "    name = input(\"enter your name: \")\n",
    "    pan = input(\"rnter pan card number: \")\n",
    "    mobile = input(\"Enter mobile number: \")\n",
    "\n",
    "    cn = random.randint(1000, 9999)\n",
    "    book[cn] = {\"Name\": name, \"PAN\": pan, \"Mobile\": mobile}\n",
    "\n",
    "    print(\"your booking is successful and yor confirmation number is:\", cn)\n",
    "\n",
    "book_hotel()\n"
   ]
  },
  {
   "cell_type": "markdown",
   "id": "3729a6ed-0425-4018-8282-eab7c50049f7",
   "metadata": {},
   "source": [
    "### 33.\tCreate a super class user. Having methods register, sing in, sign out.    Super class can be inherited by student, professor, admin Admin and students can view the marks and professor can enter the marks But marks can be visible to students on the given result date\n"
   ]
  },
  {
   "cell_type": "code",
   "execution_count": 548,
   "id": "056e2fae-5d3f-4325-8c77-1beae64d9ffc",
   "metadata": {},
   "outputs": [],
   "source": [
    "from datetime import datetime\n",
    "\n",
    "class User:\n",
    "    def __init__(self, username):\n",
    "        self.username = username\n",
    "\n",
    "    def sign_in(self): \n",
    "        print(\"{} signed in.\".format(self.username))\n",
    "    def sign_out(self): \n",
    "        print(\"{} signed out.\".format(self.username))\n",
    "\n",
    "class Student(User):\n",
    "    def __init__(self, username):\n",
    "        self.username = username\n",
    "        self.marks = {}\n",
    "\n",
    "    def view_marks(self, result_date):\n",
    "        if datetime.now() >= result_date:\n",
    "            print(self.marks)\n",
    "        else:\n",
    "            print(\"Results not available yet.\")\n",
    "\n",
    "class Professor(User):\n",
    "    def __init__(self, username):\n",
    "        self.username = username\n",
    "\n",
    "    def enter_marks(self, student, subject, marks):\n",
    "        student.marks[subject] = marks\n",
    "        print(\"Marks entered: {} - {}: {}\".format(student.username, subject, marks))\n",
    "\n",
    "class Admin(User):\n",
    "    def __init__(self, username):\n",
    "        self.username = username\n",
    "\n",
    "    def view_marks(self, student):\n",
    "        print(\"{}'s Marks: {}\".format(student.username, student.marks))"
   ]
  },
  {
   "cell_type": "code",
   "execution_count": 554,
   "id": "2836e1cb-24ac-4df1-b00c-8fb4eb9c8d36",
   "metadata": {},
   "outputs": [],
   "source": [
    "result_date = datetime(2025, 3, 1)\n",
    "s = Student(\"Aftab\")\n",
    "p = Professor(\"DrSingh\")\n",
    "a = Admin(\"AdminUser\")"
   ]
  },
  {
   "cell_type": "code",
   "execution_count": 556,
   "id": "d5fbb3de-6cf3-4356-8895-0752261ec104",
   "metadata": {},
   "outputs": [
    {
     "name": "stdout",
     "output_type": "stream",
     "text": [
      "Marks entered: Aftab - Math: 85\n",
      "Aftab's Marks: {'Math': 85}\n",
      "Results not available yet.\n",
      "{'Math': 85}\n"
     ]
    }
   ],
   "source": [
    "p.enter_marks(s, \"Math\", 85)\n",
    "a.view_marks(s)\n",
    "s.view_marks(result_date)\n",
    "s.view_marks(datetime(2024, 2, 1))"
   ]
  },
  {
   "cell_type": "markdown",
   "id": "840b73c7-6836-46e6-9329-e237c96243b2",
   "metadata": {},
   "source": [
    "### 34.\tCreate suitable classes, methods and attributes for resume exchange. Employee to upload the file and the same file is visible to employer "
   ]
  },
  {
   "cell_type": "code",
   "execution_count": 511,
   "id": "b8a58944-4895-48bb-a67e-c6940004a86f",
   "metadata": {},
   "outputs": [],
   "source": [
    "class Employee:\n",
    "    def __init__(self, name):\n",
    "        self.name = name\n",
    "        self.resume = None\n",
    "\n",
    "    def upload_resume(self, file_name):\n",
    "        self.resume = file_name\n",
    "        print(f\"{self.name} has uploaded a resume.\")\n",
    "\n",
    "class Employer:\n",
    "    def view_resume(self, employee):\n",
    "        if employee.resume:\n",
    "            print(\"{}'s resume: {}\".format(employee.name,employee.resume))\n",
    "        else:\n",
    "            print(\"{} has not uploaded a resume.\".format(employee.name))"
   ]
  },
  {
   "cell_type": "code",
   "execution_count": 513,
   "id": "a09d2ed1-2793-4cab-b9aa-f010a3a85846",
   "metadata": {},
   "outputs": [
    {
     "name": "stdout",
     "output_type": "stream",
     "text": [
      "Aftab Tamboli has uploaded a resume.\n",
      "Aftab Tamboli's resume: aftab_reume.pdf\n"
     ]
    }
   ],
   "source": [
    "employee = Employee(\"Aftab Tamboli\")\n",
    "employee.upload_resume(\"aftab_reume.pdf\")\n",
    "\n",
    "employer = Employer()\n",
    "employer.view_resume(employee)"
   ]
  },
  {
   "cell_type": "markdown",
   "id": "d04c750f-9ad4-424a-bbd9-30a59d42e03a",
   "metadata": {},
   "source": [
    "### 35.\tPerform the database connectivity and save all employee details in the database \n",
    "Like name, mobile, address\n",
    "\n",
    "Create the proper class with methods like user information, calculate the salary, apply for the leave, view leaves, approve leaves. Records for leave application should be stored in dummy table (temporary view). Once the leave is approved then it should move to permanent table.\n"
   ]
  },
  {
   "cell_type": "markdown",
   "id": "722016fb-5888-4857-a91b-07e12205ec94",
   "metadata": {},
   "source": [
    "#### SQL Query\n",
    "\n",
    "create database assignment;\n",
    "\n",
    "use assignment;\n",
    "\n",
    "create table emp (\n",
    "    id int primary key identity(1,1),\n",
    "    name nvarchar(100),\n",
    "    mobile nvarchar(15),\n",
    "    address nvarchar(255),\n",
    "    mod_date datetime\n",
    ");\n",
    "\n",
    "create table templeave (\n",
    "    id int primary key identity(1,1),\n",
    "    name nvarchar(100),\n",
    "    leave_days int,\n",
    "    mod_date datetime\n",
    ");\n",
    "\n",
    "create table permleave (\n",
    "    id int primary key identity(1,1),\n",
    "    name nvarchar(100),\n",
    "    leave_days int,\n",
    "    mod_date datetime\n",
    ");\n",
    "\n",
    "select * from emp;\n",
    "select * from templeave;\n",
    "select * from permleave;\n"
   ]
  },
  {
   "cell_type": "code",
   "execution_count": 464,
   "id": "83170d30-b31d-45cf-81c7-f975ae350ce0",
   "metadata": {},
   "outputs": [],
   "source": [
    "import pyodbc\n",
    "\n",
    "conn = pyodbc.connect('Driver={SQL Server};'\n",
    "                      'Server=THUNDERBOLT;'\n",
    "                      'Database=assignment;'\n",
    "                      'Trusted_Connection=yes;')\n"
   ]
  },
  {
   "cell_type": "code",
   "execution_count": 490,
   "id": "b7b12692-1c80-44c4-b93b-f9ce9a255aae",
   "metadata": {},
   "outputs": [],
   "source": [
    "import datetime\n",
    "\n",
    "class Employee:\n",
    "    def __init__(self, name, mobile, address):\n",
    "        self.name = name\n",
    "        self.mobile = mobile\n",
    "        self.address = address\n",
    "\n",
    "    def save_to_db(self, conn):\n",
    "        cursor = conn.cursor()\n",
    "        cursor.execute(\"\"\"\n",
    "            INSERT INTO Emp (name, mobile, address, mod_date)\n",
    "            VALUES (?, ?, ?, ?)\n",
    "        \"\"\", (self.name, self.mobile, self.address, datetime.datetime.now()))\n",
    "        conn.commit()\n",
    "\n",
    "    def apply_leave(self, conn, leave_days):\n",
    "        cursor = conn.cursor()\n",
    "        cursor.execute(\"\"\"\n",
    "            INSERT INTO TempLeave (name, leave_days, mod_date)\n",
    "            VALUES (?, ?, ?)\n",
    "        \"\"\", (self.name, leave_days, datetime.datetime.now()))\n",
    "        conn.commit()\n",
    "\n",
    "    def approve_leave(self, conn, leave_id):\n",
    "        cursor = conn.cursor()\n",
    "        cursor.execute(\"\"\"\n",
    "            INSERT INTO PermLeave (name, leave_days, mod_date)\n",
    "            SELECT name, leave_days, mod_date\n",
    "            FROM TempLeave\n",
    "            WHERE id=?\n",
    "        \"\"\", (leave_id,))\n",
    "        conn.commit()\n",
    "        cursor.execute(\"DELETE FROM TempLeave WHERE id=?\", (leave_id,))\n",
    "        conn.commit()\n"
   ]
  },
  {
   "cell_type": "code",
   "execution_count": 492,
   "id": "603c1260-a72a-42c7-8151-f1774bcb1298",
   "metadata": {},
   "outputs": [],
   "source": [
    "emp = Employee(\"Aftab\", \"987654321\", \"Pisoli, Pune\")\n",
    "emp.save_to_db(conn)"
   ]
  },
  {
   "cell_type": "code",
   "execution_count": 494,
   "id": "a65a6b2a-ee41-4691-9aac-ef271713813a",
   "metadata": {},
   "outputs": [],
   "source": [
    "emp.apply_leave(conn, 5)"
   ]
  },
  {
   "cell_type": "code",
   "execution_count": 496,
   "id": "f125a5a2-97cd-4437-b7c1-98ab790a581c",
   "metadata": {},
   "outputs": [],
   "source": [
    "leave_id = 1\n",
    "emp.approve_leave(conn, leave_id)"
   ]
  }
 ],
 "metadata": {
  "kernelspec": {
   "display_name": "Python [conda env:base] *",
   "language": "python",
   "name": "conda-base-py"
  },
  "language_info": {
   "codemirror_mode": {
    "name": "ipython",
    "version": 3
   },
   "file_extension": ".py",
   "mimetype": "text/x-python",
   "name": "python",
   "nbconvert_exporter": "python",
   "pygments_lexer": "ipython3",
   "version": "3.12.7"
  }
 },
 "nbformat": 4,
 "nbformat_minor": 5
}
