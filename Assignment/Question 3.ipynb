{
 "cells": [
  {
   "cell_type": "code",
   "execution_count": 14,
   "id": "0bf91479-4394-4f5f-a093-169848c3cfd9",
   "metadata": {},
   "outputs": [
    {
     "name": "stdout",
     "output_type": "stream",
     "text": [
      "\n",
      "1. To enter the item.\n",
      "2. To exit.\n",
      "\n"
     ]
    },
    {
     "name": "stdin",
     "output_type": "stream",
     "text": [
      "Enter your choice:  1\n",
      "Enter the item:  idli\n",
      "Enter the quantity:  10\n",
      "Enter the price:  10\n"
     ]
    },
    {
     "name": "stdout",
     "output_type": "stream",
     "text": [
      "Total: 100.0\n"
     ]
    },
    {
     "name": "stdin",
     "output_type": "stream",
     "text": [
      "Enter your choice:  1\n",
      "Enter the item:  dosa\n",
      "Enter the quantity:  5\n",
      "Enter the price:  5\n"
     ]
    },
    {
     "name": "stdout",
     "output_type": "stream",
     "text": [
      "Total: 125.0\n"
     ]
    },
    {
     "name": "stdin",
     "output_type": "stream",
     "text": [
      "Enter your choice:  2\n"
     ]
    },
    {
     "name": "stdout",
     "output_type": "stream",
     "text": [
      "Thank you for using our program.\n",
      "[100.0, 25.0]\n",
      "[{'item': 'idli', 'Quantity': 10, 'Price': 10.0, 'Total Price per Item': 100.0}, {'item': 'dosa', 'Quantity': 5, 'Price': 5.0, 'Total Price per Item': 25.0}]\n",
      "--------------------------------------------------\n",
      "               Welcome to Blue Nile               \n",
      "--------------------------------------------------\n",
      "Item      Quantity      Price      Price per Item\n",
      "idli          10          10.0          100.0          \n",
      "dosa          5          5.0          25.0          \n",
      "--------------------------------------------------\n",
      "Total:                                125.0\n",
      "--------------------------------------------------\n"
     ]
    }
   ],
   "source": [
    "print(\"\"\"\n",
    "1. To enter the item.\n",
    "2. To exit.\n",
    "\"\"\")\n",
    "\n",
    "l = []\n",
    "l1 = []\n",
    "while True:\n",
    "  choice = int(input(\"Enter your choice: \"))\n",
    "\n",
    "  if choice == 1:\n",
    "    item = input(\"Enter the item: \")\n",
    "    quantity = int(input(\"Enter the quantity: \"))\n",
    "    price = float(input(\"Enter the price: \"))\n",
    "    tpq = quantity * price\n",
    "    d={\"item\":item, \"Quantity\": quantity, \"Price\": price, \"Total Price per Item\": tpq}\n",
    "    l1.append(d)\n",
    "    l.append(tpq)\n",
    "    Total = sum(l)\n",
    "    print(f\"Total: {Total}\")\n",
    "\n",
    "  elif choice == 2:\n",
    "    print(\"Thank you for using our program.\")\n",
    "    break\n",
    "  else:\n",
    "    print(\"Invalid choice. Please try again.\")\n",
    "\n",
    "print(l)\n",
    "print(l1)\n",
    "\n",
    "print('-'*50 + \"\\n{:^50}\".format(\"Welcome to Blue Nile\") + '\\n' + '-'*50)\n",
    "\n",
    "print(\"\"\"Item      Quantity      Price      Price per Item\"\"\")\n",
    "for i in l1:\n",
    " for j in i.values():\n",
    "  print(j, end = \"          \", sep = \"   \")\n",
    " print()\n",
    "\n",
    "print('-'*50)\n",
    "print(f\"Total:                                {Total}\")\n",
    "print('-'*50)"
   ]
  },
  {
   "cell_type": "code",
   "execution_count": null,
   "id": "76b8544c-fbf8-40a9-9a3a-ee193231cc3d",
   "metadata": {},
   "outputs": [],
   "source": []
  }
 ],
 "metadata": {
  "kernelspec": {
   "display_name": "Python [conda env:base] *",
   "language": "python",
   "name": "conda-base-py"
  },
  "language_info": {
   "codemirror_mode": {
    "name": "ipython",
    "version": 3
   },
   "file_extension": ".py",
   "mimetype": "text/x-python",
   "name": "python",
   "nbconvert_exporter": "python",
   "pygments_lexer": "ipython3",
   "version": "3.12.7"
  }
 },
 "nbformat": 4,
 "nbformat_minor": 5
}
