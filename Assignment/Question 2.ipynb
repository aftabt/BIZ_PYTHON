{
 "cells": [
  {
   "cell_type": "code",
   "execution_count": 8,
   "id": "4440720e-45e3-4374-adaa-147d5ebb232c",
   "metadata": {},
   "outputs": [
    {
     "name": "stdin",
     "output_type": "stream",
     "text": [
      "Enter the Start Date (DD-MM-YYYY) 10-01-2025\n",
      "Enter the End Date (DD-MM-YYYY) 20-01-2025\n",
      "Enter task for 10-01-2025:  cycling\n"
     ]
    },
    {
     "name": "stdout",
     "output_type": "stream",
     "text": [
      "11-01-2025 is a weekend. No task allocated.\n",
      "12-01-2025 is a weekend. No task allocated.\n"
     ]
    },
    {
     "name": "stdin",
     "output_type": "stream",
     "text": [
      "Enter task for 13-01-2025:  dance\n",
      "Enter task for 14-01-2025:  walk\n",
      "Enter task for 15-01-2025:  gaming\n",
      "Enter task for 16-01-2025:  movie\n",
      "Enter task for 17-01-2025:  college\n"
     ]
    },
    {
     "name": "stdout",
     "output_type": "stream",
     "text": [
      "18-01-2025 is a weekend. No task allocated.\n",
      "19-01-2025 is a weekend. No task allocated.\n"
     ]
    },
    {
     "name": "stdin",
     "output_type": "stream",
     "text": [
      "Enter task for 20-01-2025:  club\n"
     ]
    }
   ],
   "source": [
    "from datetime import datetime, timedelta\n",
    "from datetime import date\n",
    "from datetime import time\n",
    "\n",
    "start = input(\"Enter the Start Date (DD-MM-YYYY)\")\n",
    "end = input(\"Enter the End Date (DD-MM-YYYY)\")\n",
    "\n",
    "d1=datetime.strptime(start,\"%d-%m-%Y\")\n",
    "d2=datetime.strptime(end,\"%d-%m-%Y\")\n",
    "\n",
    "now = d1\n",
    "while now <= d2:\n",
    "    if now.weekday() < 5:\n",
    "        task = input(f\"Enter task for {now.strftime('%d-%m-%Y')}: \")\n",
    "    else:\n",
    "        print(f\"{now.strftime('%d-%m-%Y')} is a weekend. No task allocated.\")\n",
    "    now = now + timedelta(days=1)"
   ]
  },
  {
   "cell_type": "code",
   "execution_count": null,
   "id": "1e014272-97d5-4f88-a4ad-fe1a415a98d8",
   "metadata": {},
   "outputs": [],
   "source": []
  }
 ],
 "metadata": {
  "kernelspec": {
   "display_name": "Python [conda env:base] *",
   "language": "python",
   "name": "conda-base-py"
  },
  "language_info": {
   "codemirror_mode": {
    "name": "ipython",
    "version": 3
   },
   "file_extension": ".py",
   "mimetype": "text/x-python",
   "name": "python",
   "nbconvert_exporter": "python",
   "pygments_lexer": "ipython3",
   "version": "3.12.7"
  }
 },
 "nbformat": 4,
 "nbformat_minor": 5
}
