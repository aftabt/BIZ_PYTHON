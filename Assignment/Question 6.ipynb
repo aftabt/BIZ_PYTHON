{
 "cells": [
  {
   "cell_type": "code",
   "execution_count": 6,
   "id": "3fab5f4f-c081-4394-9568-f63d3587f71f",
   "metadata": {},
   "outputs": [
    {
     "name": "stdin",
     "output_type": "stream",
     "text": [
      "Enter date of birth (DD-MM-YYYY):  24-10-2000\n"
     ]
    },
    {
     "name": "stdout",
     "output_type": "stream",
     "text": [
      "ypur age is: 25 years\n"
     ]
    }
   ],
   "source": [
    "from datetime import datetime\n",
    "\n",
    "dob = input(\"Enter date of birth (DD-MM-YYYY): \")\n",
    "\n",
    "dob_val = datetime.strptime(dob, \"%d-%m-%Y\")\n",
    "now = datetime.now()\n",
    "age = now.year - dob_val.year\n",
    "print(\"ypur age is:\", age, \"years\")"
   ]
  },
  {
   "cell_type": "code",
   "execution_count": null,
   "id": "0aa39780-52ba-4468-873c-1378ee1ef174",
   "metadata": {},
   "outputs": [],
   "source": []
  }
 ],
 "metadata": {
  "kernelspec": {
   "display_name": "Python [conda env:base] *",
   "language": "python",
   "name": "conda-base-py"
  },
  "language_info": {
   "codemirror_mode": {
    "name": "ipython",
    "version": 3
   },
   "file_extension": ".py",
   "mimetype": "text/x-python",
   "name": "python",
   "nbconvert_exporter": "python",
   "pygments_lexer": "ipython3",
   "version": "3.12.7"
  }
 },
 "nbformat": 4,
 "nbformat_minor": 5
}
