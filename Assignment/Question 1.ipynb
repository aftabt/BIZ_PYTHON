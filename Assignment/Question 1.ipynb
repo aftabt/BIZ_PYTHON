{
 "cells": [
  {
   "cell_type": "code",
   "execution_count": 4,
   "id": "b1ac490b-7259-4d20-afbe-24db3902a780",
   "metadata": {},
   "outputs": [
    {
     "name": "stdout",
     "output_type": "stream",
     "text": [
      "Strings: ['aftab', 'Hello']\n",
      "Integers: [1, 2, 3]\n",
      "Tuples: [(4, 5, 6), (7, 8)]\n",
      "Lists: [[9, 10], [11, 12, 13]]\n",
      "Sets: [{14, 15}]\n"
     ]
    }
   ],
   "source": [
    "l1 = [1, 2, 3, \"aftab\", \"Hello\", (4, 5, 6), (7, 8), [9, 10], [11, 12, 13], {14, 15}]\n",
    "\n",
    "l2 = []\n",
    "l3 = []  \n",
    "l4 = []\n",
    "l5 = [] \n",
    "l6 = []\n",
    "\n",
    "for i in l1:\n",
    "    if isinstance(i, str):  \n",
    "        l2.append(i)\n",
    "    elif isinstance(i, int):  \n",
    "        l3.append(i)\n",
    "    elif isinstance(i, tuple):  \n",
    "        l4.append(i)\n",
    "    elif isinstance(i, list):  \n",
    "        l5.append(i)\n",
    "    else:  \n",
    "        l6.append(i)\n",
    "\n",
    "print(\"Strings:\", l2)\n",
    "print(\"Integers:\", l3)\n",
    "print(\"Tuples:\", l4)\n",
    "print(\"Lists:\", l5)\n",
    "print(\"Sets:\", l6)\n"
   ]
  },
  {
   "cell_type": "code",
   "execution_count": null,
   "id": "b7af158b-0f07-465f-b372-ec92bf32e6fd",
   "metadata": {},
   "outputs": [],
   "source": []
  }
 ],
 "metadata": {
  "kernelspec": {
   "display_name": "Python [conda env:base] *",
   "language": "python",
   "name": "conda-base-py"
  },
  "language_info": {
   "codemirror_mode": {
    "name": "ipython",
    "version": 3
   },
   "file_extension": ".py",
   "mimetype": "text/x-python",
   "name": "python",
   "nbconvert_exporter": "python",
   "pygments_lexer": "ipython3",
   "version": "3.12.7"
  }
 },
 "nbformat": 4,
 "nbformat_minor": 5
}
